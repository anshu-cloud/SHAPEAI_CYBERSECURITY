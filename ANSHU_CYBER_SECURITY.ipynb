{
  "nbformat": 4,
  "nbformat_minor": 0,
  "metadata": {
    "colab": {
      "name": "ANSHU_CYBER_SECURITY.ipynb",
      "provenance": [],
      "collapsed_sections": []
    },
    "kernelspec": {
      "name": "python3",
      "display_name": "Python 3"
    },
    "language_info": {
      "name": "python"
    }
  },
  "cells": [
    {
      "cell_type": "code",
      "metadata": {
        "colab": {
          "base_uri": "https://localhost:8080/"
        },
        "id": "KzgJDvp1rVKv",
        "outputId": "e0c23265-5636-4797-9943-c777619fb8e0"
      },
      "source": [
        "import requests\n",
        "#import os\n",
        "from datetime import datetime\n",
        "\n",
        "api_key = '87d845b0b6cf29baa1a73cc34b067a95'\n",
        "location = input(\"Enter the city name: \")\n",
        "\n",
        "complete_api_link = \"https://api.openweathermap.org/data/2.5/weather?q=\"+location+\"&appid=\"+api_key\n",
        "api_link = requests.get(complete_api_link)\n",
        "api_data = api_link.json()\n",
        "\n",
        "#create variables to store and display data\n",
        "temp_city = ((api_data['main']['temp']) - 273.15)\n",
        "weather_desc = api_data['weather'][0]['description']\n",
        "hmdt = api_data['main']['humidity']\n",
        "wind_spd = api_data['wind']['speed']\n",
        "date_time = datetime.now().strftime(\"%d %b %Y | %I:%M:%S %p\")\n",
        "\n",
        "file = open('result.txt','w')\n",
        "\n",
        "print (\"-------------------------------------------------------------\")\n",
        "print (\"Weather Stats for - {}  || {}\".format(location.upper(), date_time))\n",
        "print (\"-------------------------------------------------------------\")\n",
        "\n",
        "print (\"Current temperature is: {:.2f} deg C\".format(temp_city))\n",
        "print (\"Current weather desc  :\",weather_desc)\n",
        "print (\"Current Humidity      :\",hmdt, '%')\n",
        "print (\"Current wind speed    :\",wind_spd ,'kmph') \n",
        "\n",
        "file.write(\"-------------------------------------------------------------\" + '\\n')\n",
        "file.write (\"Weather Stats for - {}  || {}\".format(location.upper(), date_time))\n",
        "file.write (\"-------------------------------------------------------------\" + '\\n')\n",
        "\n",
        "file.write (\"Current temperature is: 37.17 deg C\"+ '\\n')\n",
        "file.write (\"Current weather desc  :clear sky\" + '\\n')\n",
        "file.write (\"Current Humidity      :12% \" + '\\n')\n",
        "file.write (\"Current wind speed    : 2.45 kmph \" + '\\n') \n",
        "\n",
        "file.close()\n",
        "\n",
        "\n",
        "\n"
      ],
      "execution_count": 11,
      "outputs": [
        {
          "output_type": "stream",
          "text": [
            "Enter the city name: JAMMU\n",
            "-------------------------------------------------------------\n",
            "Weather Stats for - JAMMU  || 23 Jun 2021 | 07:51:59 AM\n",
            "-------------------------------------------------------------\n",
            "Current temperature is: 37.17 deg C\n",
            "Current weather desc  : clear sky\n",
            "Current Humidity      : 11 %\n",
            "Current wind speed    : 2.65 kmph\n"
          ],
          "name": "stdout"
        }
      ]
    }
  ]
}